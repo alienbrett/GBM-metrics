{
  "nbformat": 4,
  "nbformat_minor": 0,
  "metadata": {
    "colab": {
      "name": "GBM_minimum.ipynb",
      "provenance": [],
      "collapsed_sections": []
    },
    "kernelspec": {
      "name": "python3",
      "display_name": "Python 3"
    },
    "language_info": {
      "name": "python"
    }
  },
  "cells": [
    {
      "cell_type": "code",
      "metadata": {
        "colab": {
          "base_uri": "https://localhost:8080/",
          "height": 17
        },
        "cellView": "form",
        "id": "8h3W50X7p-SN",
        "outputId": "4bb89ecc-3b9d-4970-b9a7-1a2f72e67355"
      },
      "source": [
        "#@title\n",
        "\n",
        "from IPython.display import Math, HTML\n",
        "display(HTML(\"<script src='https://cdnjs.cloudflare.com/ajax/libs/mathjax/2.7.3/\"\n",
        "               \"latest.js?config=default'></script>\"))\n",
        "import matplotlib.pyplot as plt\n",
        "\n",
        "\n",
        "import numpy as np\n",
        "import scipy\n",
        "import scipy.integrate\n",
        "import scipy.interpolate\n",
        "\n",
        "\n",
        "def conditionedMinimum(t, xt, sigma, minimum):\n",
        "    '''PDF of GBM minimum, given a known ending value Xt\n",
        "    '''\n",
        "    j = t*sigma**2    \n",
        "    return np.where(\n",
        "        np.logical_or(xt < 0.0, minimum >= xt),\n",
        "        0,\n",
        "        -2*np.log(minimum**2 /xt) * np.exp(\n",
        "            (np.log(xt)**2 - np.log(minimum**2 / xt)**2) / (2*j)\n",
        "        ) / (minimum * j)\n",
        "    )\n",
        "\n",
        "def gbmEval(mu, sigma, t, zscore):\n",
        "    '''Useful function\n",
        "    '''\n",
        "    return np.exp(\n",
        "        t*(mu-(1/2)*sigma**2) + (sigma * t**0.5) * zscore\n",
        "    )\n",
        "\n",
        "def gbmPDF(t, mu, sigma, xt):\n",
        "    '''Density function of GBM with given parameters\n",
        "    '''\n",
        "    return (2*np.pi * (sigma * xt)**2)**(-1/2) * np.exp(\n",
        "        -(np.log(xt) - t*(mu-sigma**2 / 2))**2 / (2*t*sigma**2)\n",
        "    )\n",
        "\n",
        "\n",
        "\n",
        "class GBMMinimum:\n",
        "    def __init__(\n",
        "        self, t, mu, sigma,\n",
        "        n_min_samples=1_000, n_xt_samples=1_000, maxz=4\n",
        "    ):\n",
        "        self.mu = mu\n",
        "        self.t = t\n",
        "        self.sigma = sigma\n",
        "        \n",
        "        gbmSampleMin, gbmSampleMax = tuple(\n",
        "            gbmEval(mu, sigma, t, np.asarray([-maxz, maxz]))\n",
        "        )\n",
        "\n",
        "        xt = np.geomspace(\n",
        "            gbmSampleMin, gbmSampleMax, n_xt_samples\n",
        "        )\n",
        "        self._pt = np.linspace(0, 1, n_min_samples+1, endpoint=True)[1:]\n",
        "        mins, mxt = np.meshgrid(\n",
        "            self._pt,\n",
        "            xt\n",
        "        )\n",
        "\n",
        "        self._pdf_eval = gbmPDF(t,mu,sigma,xt).reshape(-1,1) * conditionedMinimum(t, mxt, sigma, mins)\n",
        "\n",
        "        self._pdf = scipy.integrate.simps(self._pdf_eval, xt, axis=0)\n",
        "        \n",
        "        self._cdf = scipy.integrate.cumtrapz(self._pdf, self._pt, initial=0)\n",
        "\n",
        "        self._pdf_interp = scipy.interpolate.interp1d(\n",
        "            x = self._pt,\n",
        "            y = self._pdf,\n",
        "            bounds_error=False,\n",
        "            fill_value=(0,0),\n",
        "            copy=False,\n",
        "            assume_sorted=True\n",
        "        )\n",
        "        self._cdf_interp = scipy.interpolate.interp1d(\n",
        "            x = self._pt,\n",
        "            y = self._cdf,\n",
        "            bounds_error=False,\n",
        "            fill_value=(0,1),\n",
        "            copy=False,\n",
        "            assume_sorted=True\n",
        "        )\n",
        "        self._inverse_cdf_interp = scipy.interpolate.interp1d(\n",
        "            x = self._cdf,\n",
        "            y = self._pt,\n",
        "            bounds_error=False,\n",
        "            fill_value=(0,1),\n",
        "            copy=False,\n",
        "            assume_sorted=True,\n",
        "        )\n",
        "\n",
        "\n",
        "    def pdf(self, xs):\n",
        "        '''Density function of distribution at certain points\n",
        "        '''\n",
        "        return self._pdf_interp(xs)\n",
        "        \n",
        "    def cdf(self, xs):\n",
        "        '''CDF of distribution at certain points\n",
        "        '''\n",
        "        return self._cdf_interp(xs)\n",
        "    \n",
        "    def inverse_cdf(self, ps):\n",
        "        '''At a given confidence level,\n",
        "        What minimum can we expect the function not to exceed over the time?\n",
        "\n",
        "        Or, for just inverse of CDF\n",
        "        '''\n",
        "        return self._inverse_cdf_interp(ps)"
      ],
      "execution_count": null,
      "outputs": [
        {
          "output_type": "display_data",
          "data": {
            "text/html": [
              "<script src='https://cdnjs.cloudflare.com/ajax/libs/mathjax/2.7.3/latest.js?config=default'></script>"
            ],
            "text/plain": [
              "<IPython.core.display.HTML object>"
            ]
          },
          "metadata": {
            "tags": []
          }
        }
      ]
    },
    {
      "cell_type": "code",
      "metadata": {
        "colab": {
          "base_uri": "https://localhost:8080/",
          "height": 135
        },
        "cellView": "form",
        "id": "K_WXJbtOUKgC",
        "outputId": "5c605dab-0489-4e08-9bcf-a980eb79f461"
      },
      "source": [
        "#@title\n",
        "print('''\n",
        "The density function of a Geometric Brownian random variable\n",
        "(assuming S_0 = 1) is given by:\n",
        "''')\n",
        "Math(\n",
        "r'''\n",
        "    P(S_t)\n",
        "    = \\frac{1}{\\sqrt{2 \\pi t}} \\frac{1}{s\\sigma}\n",
        "    \\exp \\Bigg( - \\frac{\\left( \\log S_t -\n",
        "    t \\left( \\mu - \\frac{1}{2} \\sigma ^2 \\right) \\right)^{2}} {2 t \\sigma^{2}}\n",
        "    \\Bigg)\n",
        "'''\n",
        ")"
      ],
      "execution_count": null,
      "outputs": [
        {
          "output_type": "stream",
          "text": [
            "\n",
            "The density function of a Geometric Brownian random variable\n",
            "(assuming S_0 = 1) is given by:\n",
            "\n"
          ],
          "name": "stdout"
        },
        {
          "output_type": "execute_result",
          "data": {
            "text/latex": "$$\n    P(S_t)\n    = \\frac{1}{\\sqrt{2 \\pi t}} \\frac{1}{s\\sigma}\n    \\exp \\Bigg( - \\frac{\\left( \\log S_t -\n    t \\left( \\mu - \\frac{1}{2} \\sigma ^2 \\right) \\right)^{2}} {2 t \\sigma^{2}}\n    \\Bigg)\n$$",
            "text/plain": [
              "<IPython.core.display.Math object>"
            ]
          },
          "metadata": {
            "tags": []
          },
          "execution_count": 2
        }
      ]
    },
    {
      "cell_type": "code",
      "metadata": {
        "colab": {
          "base_uri": "https://localhost:8080/",
          "height": 136
        },
        "cellView": "form",
        "id": "yGUGoB-eU6C8",
        "outputId": "b81c98b3-0411-4e41-f026-0921fda243e9"
      },
      "source": [
        "#@title\n",
        "print('''\n",
        "McLeish (2002) established that the minimum can be simulated,\n",
        "conditioned on S_t\n",
        "''')\n",
        "Math(\n",
        "r'''\n",
        "    P(\\min_{\\left[0,t\\right]}(S_t) = x | S_t) ^ -1\n",
        "    = \\sqrt{\n",
        "        S_t \\exp { \\bigg( - \\sqrt{ -2 \\sigma^2 t x - \\log \\left( S_t \\right) ^2 }\\bigg)}\n",
        "    }\n",
        "'''\n",
        ")"
      ],
      "execution_count": null,
      "outputs": [
        {
          "output_type": "stream",
          "text": [
            "\n",
            "McLeish (2002) established that the minimum can be simulated,\n",
            "conditioned on S_t\n",
            "\n"
          ],
          "name": "stdout"
        },
        {
          "output_type": "execute_result",
          "data": {
            "text/latex": "$$\n    P(\\min_{\\left[0,t\\right]}(S_t) = x | S_t) ^ -1\n    = \\sqrt{\n        S_t \\exp { \\bigg( - \\sqrt{ -2 \\sigma^2 t x - \\log \\left( S_t \\right) ^2 }\\bigg)}\n    }\n$$",
            "text/plain": [
              "<IPython.core.display.Math object>"
            ]
          },
          "metadata": {
            "tags": []
          },
          "execution_count": 3
        }
      ]
    },
    {
      "cell_type": "code",
      "metadata": {
        "colab": {
          "base_uri": "https://localhost:8080/",
          "height": 157
        },
        "cellView": "form",
        "id": "jFA5HPyBYG3M",
        "outputId": "5eaa25f2-0b29-44c7-b898-aaf468a484c0"
      },
      "source": [
        "#@title\n",
        "print('''\n",
        "Moreover, this can be manipulated into an\n",
        "explicit density function conditioned on the end value:\n",
        "''')\n",
        "\n",
        "\n",
        "Math(\n",
        "r'''\n",
        "    P(\\min_{\\left[0,t\\right]}(S_t) = x | S_t)\n",
        "    = \\begin{array}{cc}\n",
        "        \\Bigg \\{ & \n",
        "            \\begin{array}{cc}\n",
        "            0 & x \\geq \\min (1, S_0) \\\\\n",
        "            -\\frac{\n",
        "                2 \\log{\\frac{x^2}{S_t}}\n",
        "                \\exp \\bigg( \\frac{\\log{(S_t)}^2 - \\log{\\frac{x^2}{S_t}}} {2 t \\sigma ^2} \\bigg)\n",
        "            } {x * t * \\sigma ^2} & x \\lt \\min (1, S_0)\n",
        "            \\end{array}\n",
        "        \\end{array}\n",
        "'''\n",
        ")"
      ],
      "execution_count": null,
      "outputs": [
        {
          "output_type": "stream",
          "text": [
            "\n",
            "Moreover, this can be manipulated into an\n",
            "explicit density function conditioned on the end value:\n",
            "\n"
          ],
          "name": "stdout"
        },
        {
          "output_type": "execute_result",
          "data": {
            "text/latex": "$$\n    P(\\min_{\\left[0,t\\right]}(S_t) = x | S_t)\n    = \\begin{array}{cc}\n        \\Bigg \\{ & \n            \\begin{array}{cc}\n            0 & x \\geq \\min (1, S_0) \\\\\n            -\\frac{\n                2 \\log{\\frac{x^2}{S_t}}\n                \\exp \\bigg( \\frac{\\log{(S_t)}^2 - \\log{\\frac{x^2}{S_t}}} {2 t \\sigma ^2} \\bigg)\n            } {x * t * \\sigma ^2} & x \\lt \\min (1, S_0)\n            \\end{array}\n        \\end{array}\n$$",
            "text/plain": [
              "<IPython.core.display.Math object>"
            ]
          },
          "metadata": {
            "tags": []
          },
          "execution_count": 4
        }
      ]
    },
    {
      "cell_type": "code",
      "metadata": {
        "colab": {
          "base_uri": "https://localhost:8080/",
          "height": 106
        },
        "cellView": "form",
        "id": "RV3mtyxi3nhV",
        "outputId": "91761bb2-aa4a-4518-f455-6f38f27dddbc"
      },
      "source": [
        "#@title\n",
        "print('''\n",
        "Together, we can find an explicit formula for the density function of\n",
        "the minimum of GBM over some interval:\n",
        "''')\n",
        "\n",
        "\n",
        "Math(\n",
        "r'''\n",
        "    P(\\min_{\\left[0,t\\right]}(S_t) = x ) =\n",
        "    P(\\min_{\\left[0,t\\right]}(S_t) = x | S_t ) * P(S_t = x)\n",
        "'''\n",
        ")"
      ],
      "execution_count": null,
      "outputs": [
        {
          "output_type": "stream",
          "text": [
            "\n",
            "Together, we can find an explicit formula for the density function of\n",
            "the minimum of GBM over some interval:\n",
            "\n"
          ],
          "name": "stdout"
        },
        {
          "output_type": "execute_result",
          "data": {
            "text/latex": "$$\n    P(\\min_{\\left[0,t\\right]}(S_t) = x ) =\n    P(\\min_{\\left[0,t\\right]}(S_t) = x | S_t ) * P(S_t = x)\n$$",
            "text/plain": [
              "<IPython.core.display.Math object>"
            ]
          },
          "metadata": {
            "tags": []
          },
          "execution_count": 5
        }
      ]
    },
    {
      "cell_type": "markdown",
      "metadata": {
        "id": "DZijT--B4I5b"
      },
      "source": [
        "Since to find the relevent integrals needed for a CDF and an inverse CDF are expensive to compute on-demand, we can sample them ahead-of-time over their support and interpolate quickly on-demand."
      ]
    },
    {
      "cell_type": "code",
      "metadata": {
        "id": "1q4EZY7KPJ3C"
      },
      "source": [
        "#@title\n",
        "# Initial value, X_0\n",
        "X0 = 4070\n",
        "\n",
        "# Timespan for process\n",
        "t = 1/12.0\n",
        "\n",
        "# Brownian drift of distribution, per unit time\n",
        "mu = 0.07\n",
        "\n",
        "# Dispersion, or volatility\n",
        "sigma = 0.20\n",
        "\n",
        "# Percent chance of ruin (think VAR)\n",
        "alphas = np.asarray([0.05, 0.25, 0.5, 0.75, 0.95])\n",
        "\n",
        "\n",
        "# You shouldn't really have to touch this\n",
        "figsize = (12,6)"
      ],
      "execution_count": null,
      "outputs": []
    },
    {
      "cell_type": "code",
      "metadata": {
        "cellView": "form",
        "id": "56HaSJno_JPL"
      },
      "source": [
        "#@title\n",
        "# How many contracts can we buy before risk of being closed out over interval\n",
        "# is higher than alpha?\n",
        "\n",
        "def contracts_at_level(cash, S_0, S_m, maintinance_margin, mult=1.0):\n",
        "    '''How many futures contracts would we need\n",
        "    to to exactly blow up at the specified futures price, S_m?\n",
        "\n",
        "    Given we have cash, futures is at S_0 now, and for some margin level\n",
        "    '''\n",
        "    # print(S_0-S_m)\n",
        "\n",
        "    # return (cash - mult * (S_0 - S_m)) / maintinance_margin\n",
        "    return cash / (maintinance_margin - mult*(S_m-S_0))\n"
      ],
      "execution_count": null,
      "outputs": []
    },
    {
      "cell_type": "code",
      "metadata": {
        "colab": {
          "base_uri": "https://localhost:8080/",
          "height": 525
        },
        "cellView": "form",
        "id": "hVAdffY97Bco",
        "outputId": "3bc6d28d-baf1-4a9c-c8cb-49d93d58ec73"
      },
      "source": [
        "#@title\n",
        "\n",
        "# Instantiate our GBM process\n",
        "gbm_m = GBMMinimum(\n",
        "    t = t,\n",
        "    mu = mu,\n",
        "    sigma = sigma,\n",
        ")\n",
        "icdfa = X0 * gbm_m.inverse_cdf(alphas)\n",
        "for a, x in zip(alphas,icdfa):\n",
        "    print(\"{0:.1f}% chance of reaching {1:,.2f}\".format(\n",
        "        a*100.0,\n",
        "        x\n",
        "    ))\n",
        "\n",
        "#################\n",
        "# Plots are all below\n",
        "xs = np.linspace(0, 1, 200)\n",
        "px = xs * X0\n",
        "fig, axs = plt.subplots(2,2, figsize=figsize)\n",
        "\n",
        "# PDF Plot\n",
        "ax = axs.flatten()\n",
        "ax[0].plot(\n",
        "    px,\n",
        "    gbm_m.pdf(xs),\n",
        "    label='pdf'\n",
        ")\n",
        "ax[0].fill_between(px,gbm_m.pdf(xs), alpha=0.3)\n",
        "ax[0].set_title('PDF of Minimum for GBM')\n",
        "ax[0].set_xlabel('Minimum of GBM over interval')\n",
        "ax[0].set_ylabel('Probability Density')\n",
        "ax[0].grid()\n",
        "\n",
        "\n",
        "# CDF Plot\n",
        "ax[1].plot(\n",
        "    px,\n",
        "    gbm_m.cdf(xs),\n",
        "    label='cdf'\n",
        ")\n",
        "ax[1].fill_between(px,gbm_m.cdf(xs), alpha=0.3)\n",
        "ax[1].set_title('CDF of Minimum for GBM')\n",
        "ax[1].set_xlabel('Minimum of GBM over interval')\n",
        "ax[1].set_ylabel('Probability (CDF)')\n",
        "# ax[1].legend()\n",
        "ax[1].grid()\n",
        "\n",
        "\n",
        "# Inverse CDF Plot\n",
        "ax[2].plot(\n",
        "    xs,\n",
        "    X0*gbm_m.inverse_cdf(xs),\n",
        "    label='inverse_cdf',\n",
        "    c='orange'\n",
        ")\n",
        "ax[2].fill_between(xs,X0*gbm_m.inverse_cdf(xs), alpha=0.3, color='orange')\n",
        "ax[2].set_title('Inverse of CDF of Minimum for GBM')\n",
        "ax[2].grid()\n",
        "\n",
        "\n",
        "plt.tight_layout()\n",
        "plt.show()"
      ],
      "execution_count": null,
      "outputs": [
        {
          "output_type": "stream",
          "text": [
            "5.0% chance of reaching 3,773.82\n",
            "25.0% chance of reaching 4,033.50\n",
            "50.0% chance of reaching 4,070.00\n",
            "75.0% chance of reaching 4,070.00\n",
            "95.0% chance of reaching 4,070.00\n"
          ],
          "name": "stdout"
        },
        {
          "output_type": "display_data",
          "data": {
            "image/png": "[encoded data removed]",
            "text/plain": [
              "<Figure size 864x432 with 4 Axes>"
            ]
          },
          "metadata": {
            "tags": [],
            "needs_background": "light"
          }
        }
      ]
    },
    {
      "cell_type": "code",
      "metadata": {
        "id": "gHy7QDPjeyvt"
      },
      "source": [
        "# Chance of margin call\n",
        "alpha = 0.10\n",
        "\n",
        "# Maintinance margin\n",
        "m_margin = 1200\n",
        "\n",
        "# Multiplier, taking index to dollars\n",
        "mult = 5.0\n",
        "\n",
        "cash = 40_000\n",
        "\n",
        "\n",
        "########################################\n",
        "# Shouldn't have to mess around down here\n",
        "\n",
        "# At what level can we expect to find minimum over timeperiod?\n",
        "icdfa = X0 * gbm_m.inverse_cdf(alpha)\n",
        "\n",
        "# How many contracts we can own\n",
        "num_contracts = np.floor(contracts_at_level(\n",
        "    cash = cash,\n",
        "    S_0 = X0,\n",
        "    S_m = icdfa,\n",
        "    maintinance_margin = m_margin,\n",
        "    mult=mult\n",
        "))"
      ],
      "execution_count": null,
      "outputs": []
    },
    {
      "cell_type": "code",
      "metadata": {
        "id": "cTKZnoNR8eca",
        "colab": {
          "base_uri": "https://localhost:8080/",
          "height": 69
        },
        "cellView": "form",
        "outputId": "c271e9b0-7105-48f2-8500-03769ad3670e"
      },
      "source": [
        "#@title\n",
        "print(\n",
        "    'We expect asset to find support at {0:,.2f} at the {1:.0f}% confidence level'.format(\n",
        "        icdfa,\n",
        "        100*alpha\n",
        "    )\n",
        ")\n",
        "print(\n",
        "    'We can own {0:,.0f} contracts, with VAR of ${1:,.0f} at the {2:.0f}% confidence level'.format(\n",
        "        num_contracts,\n",
        "        cash,\n",
        "        100*alpha\n",
        "    )\n",
        ")\n",
        "exposure = mult*X0*num_contracts\n",
        "\n",
        "leverage = exposure / cash\n",
        "\n",
        "'Total exposure: ${0:,.2f} ({1:.1f}x levered)'.format(exposure, leverage)"
      ],
      "execution_count": null,
      "outputs": [
        {
          "output_type": "stream",
          "text": [
            "We expect asset to find support at 3,864.70 at the 10% confidence level\n",
            "We can own 17 contracts, with VAR of $40,000 at the 10% confidence level\n"
          ],
          "name": "stdout"
        },
        {
          "output_type": "execute_result",
          "data": {
            "application/vnd.google.colaboratory.intrinsic+json": {
              "type": "string"
            },
            "text/plain": [
              "'Total exposure: $345,950.00 (8.6x levered)'"
            ]
          },
          "metadata": {
            "tags": []
          },
          "execution_count": 10
        }
      ]
    },
    {
      "cell_type": "code",
      "metadata": {
        "id": "sU6Bo6N0Umer"
      },
      "source": [
        ""
      ],
      "execution_count": null,
      "outputs": []
    }
  ]
}